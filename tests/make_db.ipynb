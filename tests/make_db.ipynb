{
 "cells": [
  {
   "cell_type": "code",
   "execution_count": 3,
   "metadata": {},
   "outputs": [
    {
     "data": {
      "text/plain": [
       "['.\\\\secure\\\\images\\\\PM1-009_スパークスター_ワンピ.jpg',\n",
       " '.\\\\secure\\\\images\\\\PM1-010_スパークスター_シューズ.jpg',\n",
       " '.\\\\secure\\\\images\\\\PM1-011_スパークスター_アクセ.jpg',\n",
       " '.\\\\secure\\\\images\\\\PM2-150_クリスマスベルブルー_トップス.jpg',\n",
       " '.\\\\secure\\\\images\\\\PM2-151_クリスマスベルブルー_ボトムス.jpg',\n",
       " '.\\\\secure\\\\images\\\\PM2-152_クリスマスベルブルー_シューズ.jpg',\n",
       " '.\\\\secure\\\\images\\\\PM2-153_クリスマスベルブルー_アクセ.jpg',\n",
       " '.\\\\secure\\\\images\\\\PM4-004_ミラクルベア_ワンピ.jpg',\n",
       " '.\\\\secure\\\\images\\\\PM4-005_ミラクルベア_シューズ.jpg',\n",
       " '.\\\\secure\\\\images\\\\PM4-006_ミラクルベア_アクセ.jpg',\n",
       " '.\\\\secure\\\\images\\\\PM4-161_イースターバニーブラック_トップス.jpg',\n",
       " '.\\\\secure\\\\images\\\\PM4-162_イースターバニーブラック_ボトムス.jpg',\n",
       " '.\\\\secure\\\\images\\\\PM4-163_イースターバニーブラック_シューズ.jpg',\n",
       " '.\\\\secure\\\\images\\\\PM4-164_イースタバニーブラック_アクセ.jpg',\n",
       " '.\\\\secure\\\\images\\\\PM5-060_おすましプリーツ_トップス.jpg',\n",
       " '.\\\\secure\\\\images\\\\PM5-061_おすましプリーツ_ボトムス.jpg',\n",
       " '.\\\\secure\\\\images\\\\PM5-062_フリルソックスパンプス_シューズ.jpg',\n",
       " '.\\\\secure\\\\images\\\\PM5-063_シンプルリボン_アクセ.jpg']"
      ]
     },
     "execution_count": 3,
     "metadata": {},
     "output_type": "execute_result"
    }
   ],
   "source": [
    "import glob\n",
    "files = glob.glob('.\\\\secure\\\\images\\\\*')\n",
    "files"
   ]
  },
  {
   "cell_type": "code",
   "execution_count": 13,
   "metadata": {},
   "outputs": [
    {
     "data": {
      "text/plain": [
       "{'id': 1,\n",
       " 'coordinationName': 'おとめマーガレット',\n",
       " 'modelName': 'SPCW20002_T01A',\n",
       " 'genre': 3,\n",
       " 'brand': 1,\n",
       " 'color': 2,\n",
       " 'rarity': 3,\n",
       " 'watcha': '600',\n",
       " 'category': 1,\n",
       " 'subCategory': 16,\n",
       " 'sealId': 'PM1-001',\n",
       " 'collection': '1',\n",
       " 'release': '0',\n",
       " 'icon': '0',\n",
       " 'kinds': '章コーデ',\n",
       " 'directoryNumber': 1,\n",
       " 'isShow': True,\n",
       " 'hasMainImage': True,\n",
       " 'span': '2021年10月1日（金）～2021年12月1日（水） ',\n",
       " 'isShowItem': True,\n",
       " 'order': 1,\n",
       " 'chapter': 'P01'}"
      ]
     },
     "execution_count": 13,
     "metadata": {},
     "output_type": "execute_result"
    }
   ],
   "source": [
    "import requests\n",
    "import json\n",
    "data = requests.get('https://cdnprimagiimg01.blob.core.windows.net/primagi/assets/data/item.json').json()\n",
    "data[0]"
   ]
  },
  {
   "cell_type": "code",
   "execution_count": 18,
   "metadata": {},
   "outputs": [
    {
     "name": "stdout",
     "output_type": "stream",
     "text": [
      "[{'fpath': '.\\\\secure\\\\images\\\\PM1-009_スパークスター_ワンピ.jpg', 'sealId': 'PM1-009'}, {'fpath': '.\\\\secure\\\\images\\\\PM1-010_スパークスター_シューズ.jpg', 'sealId': 'PM1-010'}, {'fpath': '.\\\\secure\\\\images\\\\PM1-011_スパークスター_アクセ.jpg', 'sealId': 'PM1-011'}, {'fpath': '.\\\\secure\\\\images\\\\PM2-150_クリスマスベルブルー_トップス.jpg', 'sealId': 'PM2-150'}, {'fpath': '.\\\\secure\\\\images\\\\PM2-151_クリスマスベルブルー_ボトムス.jpg', 'sealId': 'PM2-151'}, {'fpath': '.\\\\secure\\\\images\\\\PM2-152_クリスマスベルブルー_シューズ.jpg', 'sealId': 'PM2-152'}, {'fpath': '.\\\\secure\\\\images\\\\PM2-153_クリスマスベルブルー_アクセ.jpg', 'sealId': 'PM2-153'}, {'fpath': '.\\\\secure\\\\images\\\\PM4-004_ミラクルベア_ワンピ.jpg', 'sealId': 'PM4-004'}, {'fpath': '.\\\\secure\\\\images\\\\PM4-005_ミラクルベア_シューズ.jpg', 'sealId': 'PM4-005'}, {'fpath': '.\\\\secure\\\\images\\\\PM4-006_ミラクルベア_アクセ.jpg', 'sealId': 'PM4-006'}, {'fpath': '.\\\\secure\\\\images\\\\PM4-161_イースターバニーブラック_トップス.jpg', 'sealId': 'PM4-161'}, {'fpath': '.\\\\secure\\\\images\\\\PM4-162_イースターバニーブラック_ボトムス.jpg', 'sealId': 'PM4-162'}, {'fpath': '.\\\\secure\\\\images\\\\PM4-163_イースターバニーブラック_シューズ.jpg', 'sealId': 'PM4-163'}, {'fpath': '.\\\\secure\\\\images\\\\PM4-164_イースタバニーブラック_アクセ.jpg', 'sealId': 'PM4-164'}, {'fpath': '.\\\\secure\\\\images\\\\PM5-060_おすましプリーツ_トップス.jpg', 'sealId': 'PM5-060'}, {'fpath': '.\\\\secure\\\\images\\\\PM5-061_おすましプリーツ_ボトムス.jpg', 'sealId': 'PM5-061'}, {'fpath': '.\\\\secure\\\\images\\\\PM5-062_フリルソックスパンプス_シューズ.jpg', 'sealId': 'PM5-062'}, {'fpath': '.\\\\secure\\\\images\\\\PM5-063_シンプルリボン_アクセ.jpg', 'sealId': 'PM5-063'}]\n"
     ]
    }
   ],
   "source": [
    "db = []\n",
    "for fpath in files:\n",
    "    fname = fpath.split('\\\\')[-1]\n",
    "    sealId = fname.split('_')[0]\n",
    "    db.append({'fpath': fpath, 'sealId': sealId})\n",
    "print(db)"
   ]
  },
  {
   "cell_type": "code",
   "execution_count": null,
   "metadata": {},
   "outputs": [],
   "source": []
  }
 ],
 "metadata": {
  "kernelspec": {
   "display_name": "env",
   "language": "python",
   "name": "python3"
  },
  "language_info": {
   "codemirror_mode": {
    "name": "ipython",
    "version": 3
   },
   "file_extension": ".py",
   "mimetype": "text/x-python",
   "name": "python",
   "nbconvert_exporter": "python",
   "pygments_lexer": "ipython3",
   "version": "3.9.5"
  },
  "orig_nbformat": 4,
  "vscode": {
   "interpreter": {
    "hash": "9b67d8d54c7bae4f2c086def441dd59903d41740e2ee9b251550eacd30525fdc"
   }
  }
 },
 "nbformat": 4,
 "nbformat_minor": 2
}
