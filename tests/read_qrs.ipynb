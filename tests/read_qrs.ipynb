{
 "cells": [
  {
   "cell_type": "code",
   "execution_count": 31,
   "metadata": {},
   "outputs": [],
   "source": [
    "from pyzbar.pyzbar import decode\n",
    "import numpy as np\n",
    "import cv2\n",
    "import glob\n",
    "\n",
    "def imread(filename, flags=cv2.IMREAD_COLOR, dtype=np.uint8):\n",
    "    n = np.fromfile(filename, dtype)\n",
    "    img = cv2.imdecode(n, flags)\n",
    "    return img\n"
   ]
  },
  {
   "cell_type": "code",
   "execution_count": 32,
   "metadata": {},
   "outputs": [
    {
     "data": {
      "text/plain": [
       "('PM1-009',\n",
       " [Decoded(data=b'T\\xc2\\xa3\\x03\\xc2\\x89\\xc3\\xbd|\\xc3\\x9a:!.\\xc2\\x9c\\xc2\\xa3\\xc3\\x9fNew\\x06~\\xc3\\xbb\\xc3\\xb573\\xc3\\xb6\\xc3\\x95D\\xc2\\xba', type='QRCODE', rect=Rect(left=1930, top=2853, width=317, height=320), polygon=[Point(x=1930, y=2861), Point(x=1938, y=3173), Point(x=2247, y=3166), Point(x=2238, y=2853)], quality=1, orientation='UP')])"
      ]
     },
     "execution_count": 32,
     "metadata": {},
     "output_type": "execute_result"
    }
   ],
   "source": [
    "files = glob.glob('.\\\\secure\\\\images\\\\*')\n",
    "decodeds = [(file.split('\\\\')[-1].split('_')[0], decode(imread(file))) for file in files]\n",
    "decodeds[0]\n"
   ]
  },
  {
   "cell_type": "code",
   "execution_count": 38,
   "metadata": {},
   "outputs": [
    {
     "name": "stdout",
     "output_type": "stream",
     "text": [
      "PM2-150 が読み取れませんでした\n",
      "PM4-161 が読み取れませんでした\n",
      "PM5-060 が読み取れませんでした\n",
      "PM5-061 が読み取れませんでした\n",
      "PM5-062 が読み取れませんでした\n",
      "PM5-063 が読み取れませんでした\n"
     ]
    }
   ],
   "source": [
    "for decoded in decodeds:\n",
    "    with open(f'.\\\\secure\\\\binaries\\\\{decoded[0]}.bin', mode='wb') as f:\n",
    "        try:\n",
    "            f.write(decoded[1][0].data)\n",
    "        except IndexError:\n",
    "            print(f'{decoded[0]} が読み取れませんでした')\n",
    "            pass\n"
   ]
  },
  {
   "cell_type": "code",
   "execution_count": 89,
   "metadata": {},
   "outputs": [
    {
     "name": "stdout",
     "output_type": "stream",
     "text": [
      "PM1-009 54 a3 03 89 bd 7c 9a 3a 21 2e 9c a3 9f 4e 65 77 06 7e bb b5 37 33 b6 95 44 ba \n",
      "PM1-010 54 a3 03 4b 69 b3 37 59 7c a1 99 08 40 94 08 1d 62 bc 3e 14 69 5a a2 16 97 22 \n",
      "PM1-011 54 a3 03 4e 8e bd 04 19 0a 0a 77 60 88 8c b1 be 8f 58 b4 ae be 9b 75 2e b2 89 \n",
      "PM2-151 54 a3 03 05 52 05 ae 76 9a 6f 50 b5 54 a0 32 39 a0 9e a6 2a 71 38 97 3e 44 87 \n",
      "PM2-152 54 bd a3 03 0a 04 35 be 8e 1d be 8c e6 99 af 33 14 be 9a 76 be 98 22 10 11 ee 81 99 75 61 5d 19 7f \n",
      "PM2-153 54 a3 03 95 a7 32 1c 45 80 35 70 5c 14 59 8e 91 ad bc 99 a2 20 1e 9e 33 b0 2f \n",
      "PM4-004 54 a3 03 6e a6 22 6f bf 77 9b 6a a8 a1 71 2d 05 af a9 9c 85 51 b2 8f 12 21 18 \n",
      "PM4-005 54 bd a3 03 2f 29 35 be 90 14 7c bd b0 59 be 88 bd bd 2e 77 32 be 9a 3b 43 e7 9d a1 4c 17 70 05 13 \n",
      "PM4-006 54 a3 03 94 a7 1d b7 8f ae 80 aa 7b 9d 25 85 be 91 24 bc 85 ab 9b 9d 66 ac 35 \n",
      "PM4-162 54 a3 03 30 7d b9 32 5a a6 87 85 bc bf bd 34 ba a8 52 00 57 09 51 9d be a2 88 \n",
      "PM4-163 54 a3 03 26 1f 96 b9 7a b8 56 76 65 ae 1c 9d 8a 2f a8 4a 92 96 63 9e 86 21 53 \n",
      "PM4-164 54 a3 03 99 14 0f 6f 76 83 8a 8c 8a 58 9c 71 0d 5f b7 64 2c ba 05 aa bf 7a a8 \n"
     ]
    }
   ],
   "source": [
    "for decoded in decodeds:\n",
    "    try:\n",
    "        decoded[1][0]\n",
    "        # print(f'{decoded[0]} ' + ' '.join((f'{x:02x}' for x in decoded[1][0].data)))\n",
    "        show = f'{decoded[0]} '\n",
    "        for x in decoded[1][0].data:\n",
    "            if hex(x) == '':\n",
    "                pass\n",
    "            elif hex(x) in {'0xc2', '0xc3', '0xef'}:\n",
    "                pass\n",
    "            else:\n",
    "                show += f'{x:02x} '\n",
    "        print(show)\n",
    "\n",
    "        # print(f'{decoded[0]} ' + ' '.join((f'{x:02x}' for x in decoded[1][0].data)))\n",
    "    except IndexError:\n",
    "        pass\n"
   ]
  },
  {
   "cell_type": "code",
   "execution_count": 9,
   "metadata": {},
   "outputs": [
    {
     "data": {
      "text/plain": [
       "[]"
      ]
     },
     "execution_count": 9,
     "metadata": {},
     "output_type": "execute_result"
    }
   ],
   "source": [
    "decode(imread(glob.glob('.\\secure\\wonder*')[0]))"
   ]
  },
  {
   "cell_type": "code",
   "execution_count": 42,
   "metadata": {},
   "outputs": [
    {
     "name": "stdout",
     "output_type": "stream",
     "text": [
      "54 a3 03 97 12 3f 38 7b 97 68 b6 14 81 93 91 97 71 09 98 63 aa 85 5f 9d b7 9d \n",
      "54 a3 03 96 aa 67 8e bd a7 a0 22 63 b1 9b 06 a7 8d af 8d 29 2f b1 42 61 12 78 \n"
     ]
    }
   ],
   "source": [
    "for p in glob.glob('.\\secure\\hand*'):\n",
    "  img = imread(p)\n",
    "  show = ''\n",
    "  for x in decode(img)[0].data:\n",
    "      if hex(x) == '':\n",
    "          pass\n",
    "      elif hex(x) in {'0xc2', '0xc3', '0xef'}:\n",
    "          pass\n",
    "      else:\n",
    "          show += f'{x:02x} '\n",
    "  print(show)\n"
   ]
  },
  {
   "cell_type": "code",
   "execution_count": null,
   "metadata": {},
   "outputs": [],
   "source": []
  }
 ],
 "metadata": {
  "kernelspec": {
   "display_name": "env",
   "language": "python",
   "name": "python3"
  },
  "language_info": {
   "codemirror_mode": {
    "name": "ipython",
    "version": 3
   },
   "file_extension": ".py",
   "mimetype": "text/x-python",
   "name": "python",
   "nbconvert_exporter": "python",
   "pygments_lexer": "ipython3",
   "version": "3.9.5"
  },
  "orig_nbformat": 4,
  "vscode": {
   "interpreter": {
    "hash": "9b67d8d54c7bae4f2c086def441dd59903d41740e2ee9b251550eacd30525fdc"
   }
  }
 },
 "nbformat": 4,
 "nbformat_minor": 2
}
